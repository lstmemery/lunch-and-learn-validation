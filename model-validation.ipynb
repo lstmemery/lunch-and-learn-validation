{
 "cells": [
  {
   "cell_type": "markdown",
   "metadata": {
    "slideshow": {
     "slide_type": "slide"
    }
   },
   "source": [
    "# Model Validation: How to Know How Much Your Model Knows"
   ]
  },
  {
   "cell_type": "markdown",
   "metadata": {
    "slideshow": {
     "slide_type": "subslide"
    }
   },
   "source": [
    "- Matthew Emery - Senior Data Scientist @ Imbellus Inc.\n",
    "- www.matthewemery.ca\n",
    "- Find the code at https://github.com/lstmemery/lunch-and-learn-validation"
   ]
  },
  {
   "cell_type": "markdown",
   "metadata": {
    "slideshow": {
     "slide_type": "slide"
    }
   },
   "source": [
    "## What Are We Covering?"
   ]
  },
  {
   "cell_type": "markdown",
   "metadata": {
    "slideshow": {
     "slide_type": "subslide"
    }
   },
   "source": [
    "- Quick explainer on Fashion MNIST and Decision Trees\n",
    " - Overfitting Explanation\n",
    " - The Golden Rule of Machine Learning\n",
    " - Optimization Bias and Cross-Validation"
   ]
  },
  {
   "cell_type": "code",
   "execution_count": 6,
   "metadata": {
    "slideshow": {
     "slide_type": "skip"
    }
   },
   "outputs": [],
   "source": [
    "from sklearn.tree import DecisionTreeClassifier, export_graphviz\n",
    "import gzip\n",
    "import matplotlib.pyplot as plt\n",
    "from sklearn.model_selection import train_test_split, cross_val_score, RepeatedStratifiedKFold\n",
    "from math import log, sqrt\n",
    "from pathlib import Path\n",
    "import numpy as np\n",
    "import bokeh.plotting as bk\n",
    "import graphviz\n",
    "\n",
    "fmnist_class_names = [\"T-shirt\", \"Trouser\", \"Pullover\", \"Dress\", \"Coat\",\n",
    "                    \"Sandal\", \"Shirt\", \"Sneaker\", \"Bag\", \"Ankle Boot\"]\n",
    "\n",
    "%matplotlib inline"
   ]
  },
  {
   "cell_type": "code",
   "execution_count": 7,
   "metadata": {
    "slideshow": {
     "slide_type": "notes"
    }
   },
   "outputs": [],
   "source": [
    "with gzip.open(Path(\"data\", \"train-labels-idx1-ubyte.gz\")) as label_path:\n",
    "    labels = np.frombuffer(label_path.read(), dtype=np.uint8,\n",
    "                           offset=8)\n",
    "\n",
    "with gzip.open(Path(\"data\", \"train-images-idx3-ubyte.gz\")) as image_path:\n",
    "    features = np.frombuffer(image_path.read(), \n",
    "                           dtype=np.uint8, \n",
    "                           offset=16).reshape(len(labels), 784)\n",
    "    "
   ]
  },
  {
   "cell_type": "code",
   "execution_count": 8,
   "metadata": {
    "slideshow": {
     "slide_type": "slide"
    }
   },
   "outputs": [
    {
     "data": {
      "text/plain": [
       "<Figure size 432x288 with 0 Axes>"
      ]
     },
     "metadata": {},
     "output_type": "display_data"
    },
    {
     "data": {
      "image/png": "[encoded data removed]",
      "text/plain": [
       "<Figure size 288x288 with 1 Axes>"
      ]
     },
     "metadata": {
      "needs_background": "light"
     },
     "output_type": "display_data"
    }
   ],
   "source": [
    "plt.gray() \n",
    "plt.matshow(features[0].reshape((28,28))) \n",
    "plt.title(labels[0])\n",
    "plt.show() # This is the data we're dealing with"
   ]
  },
  {
   "cell_type": "markdown",
   "metadata": {
    "slideshow": {
     "slide_type": "notes"
    }
   },
   "source": [
    "- When I first wrote this tutorial I used MNIST\n",
    "- Then I found out about Fashion MNIST\n",
    "- Benefits:\n",
    "    1. Harder than MNIST\n",
    "    2. Less used than MNIST\n",
    "    3. Better represents modern computer vision tasks\n",
    "- How many of you have heard of MNIST?\n"
   ]
  },
  {
   "cell_type": "code",
   "execution_count": 9,
   "metadata": {
    "slideshow": {
     "slide_type": "slide"
    }
   },
   "outputs": [],
   "source": [
    "(train_features, validation_features,\n",
    " train_labels, validation_labels) = train_test_split(\n",
    "    features,\n",
    "    labels,\n",
    "    random_state=0,\n",
    "    shuffle=True,\n",
    "    test_size=0.20, # This is fine enough\n",
    "    stratify=labels\n",
    ")"
   ]
  },
  {
   "cell_type": "code",
   "execution_count": null,
   "metadata": {
    "slideshow": {
     "slide_type": "notes"
    }
   },
   "outputs": [],
   "source": []
  },
  {
   "cell_type": "markdown",
   "metadata": {
    "slideshow": {
     "slide_type": "slide"
    }
   },
   "source": [
    "## A Quick Explainer on Decision Trees"
   ]
  },
  {
   "cell_type": "code",
   "execution_count": 23,
   "metadata": {
    "slideshow": {
     "slide_type": "skip"
    }
   },
   "outputs": [
    {
     "data": {
      "text/plain": [
       "'img/decision_tree.png'"
      ]
     },
     "execution_count": 23,
     "metadata": {},
     "output_type": "execute_result"
    }
   ],
   "source": [
    "graph_data = export_graphviz(models[1],\n",
    "                            filled=True,\n",
    "                            rounded=True,\n",
    "                            class_names=fmnist_class_names)\n",
    "graph = graphviz.Source(graph_data, format=\"png\")\n",
    "graph.render(\"decision_tree\", \"img\")"
   ]
  },
  {
   "cell_type": "markdown",
   "metadata": {
    "slideshow": {
     "slide_type": "subslide"
    }
   },
   "source": [
    "![](img/decision_tree.png)"
   ]
  },
  {
   "cell_type": "markdown",
   "metadata": {
    "slideshow": {
     "slide_type": "notes"
    }
   },
   "source": [
    "- A decision tree is trained by looking at each pixel value and seeing what breakpoint would split classes the best\n",
    "- Pick the best pixel to split on and continue\n",
    "- The size of the tree is a hyperparameter\n",
    "- I decided to choose a decision tree to illustrate this for a couple of reasons\n",
    "  1. Decision Trees are really easy to understand\n",
    "  2. No need to do any preprocessing\n",
    "  3. It shows that even very simple models can do simple computer vision tasks"
   ]
  },
  {
   "cell_type": "code",
   "execution_count": 10,
   "metadata": {},
   "outputs": [
    {
     "name": "stdout",
     "output_type": "stream",
     "text": [
      "1 0.2\n",
      "2 0.36\n",
      "3 0.5\n",
      "4 0.65\n",
      "5 0.71\n",
      "6 0.74\n",
      "7 0.78\n",
      "8 0.81\n",
      "9 0.83\n",
      "10 0.85\n",
      "11 0.87\n",
      "12 0.89\n",
      "13 0.91\n",
      "14 0.93\n",
      "15 0.94\n",
      "16 0.96\n",
      "17 0.97\n",
      "18 0.98\n",
      "19 0.98\n"
     ]
    }
   ],
   "source": [
    "models, train_scores = [], []\n",
    "for depth in range(1, 20):\n",
    "    model = DecisionTreeClassifier(\n",
    "        max_depth=depth,\n",
    "    random_state=0)\n",
    "    model.fit(train_features, train_labels)\n",
    "    score = model.score(train_features, train_labels)\n",
    "    print(depth, round(score, 2))\n",
    "    models.append(model)\n",
    "    train_scores.append(score)"
   ]
  },
  {
   "cell_type": "code",
   "execution_count": 7,
   "metadata": {},
   "outputs": [
    {
     "name": "stdout",
     "output_type": "stream",
     "text": [
      "0 0.2\n",
      "1 0.36\n",
      "2 0.5\n",
      "3 0.65\n",
      "4 0.71\n",
      "5 0.73\n",
      "6 0.76\n",
      "7 0.78\n",
      "8 0.8\n",
      "9 0.81\n",
      "10 0.81\n",
      "11 0.81\n",
      "12 0.82\n",
      "13 0.81\n",
      "14 0.81\n",
      "15 0.81\n",
      "16 0.81\n",
      "17 0.81\n",
      "18 0.8\n"
     ]
    }
   ],
   "source": [
    "validation_scores = []\n",
    "\n",
    "for depth, model in enumerate(models):\n",
    "    score = model.score(test_features, test_labels)\n",
    "    print(depth, round(score, 2))\n",
    "    validation_scores.append(score)"
   ]
  },
  {
   "cell_type": "code",
   "execution_count": 8,
   "metadata": {},
   "outputs": [],
   "source": [
    "plot_1 = bk.figure(title=\"Training vs. Validation Accuracy\",\n",
    "    )\n",
    "plot_1.xaxis.axis_label = \"Depth\"\n",
    "plot_1.yaxis.axis_label = \"Accruacy\"\n",
    "plot_1.line(x = range(1, 20), y = train_scores, line_width = 5, color = \"blue\", legend = \"Training Accuracy\")\n",
    "plot_1.line(x = range(1, 20), y = validation_scores, line_width = 5, color = \"orange\", legend = \"Validation Accuracy\")\n",
    "bk.show(plot_1)"
   ]
  },
  {
   "cell_type": "markdown",
   "metadata": {},
   "source": [
    "## Overfitting"
   ]
  },
  {
   "cell_type": "markdown",
   "metadata": {},
   "source": [
    "- The gap between training and validation accuracy is **overfitting**\n",
    " - **Interpretation**: Our model has memorized part of the data set instead of learning the underlying rules\n",
    " - If the validation accuracy was higher than our training that's **underfitting**"
   ]
  },
  {
   "cell_type": "markdown",
   "metadata": {},
   "source": [
    "## Think About Studying for an Exam"
   ]
  },
  {
   "cell_type": "markdown",
   "metadata": {},
   "source": [
    "- Training your model is like the model reviewing its notes\n",
    " - Validation is when you take the midterm"
   ]
  },
  {
   "cell_type": "markdown",
   "metadata": {},
   "source": [
    "### Golden Rule of Machine Learning"
   ]
  },
  {
   "cell_type": "markdown",
   "metadata": {},
   "source": [
    "- The test cannot influence training in any way\n",
    "- If you know the answers on the exam ahead of time, you won't know if you actually learned the material"
   ]
  },
  {
   "cell_type": "markdown",
   "metadata": {},
   "source": [
    "# Common Mistakes"
   ]
  },
  {
   "cell_type": "markdown",
   "metadata": {},
   "source": [
    "- Making many models and choosing the one that does best on the test set\n",
    " - Time Series: Incorporating information from the future in your model (i.e. quarterly results before end of quarter)\n",
    " - Imputing based on the combined train-test dataset"
   ]
  },
  {
   "cell_type": "markdown",
   "metadata": {},
   "source": [
    "## Should Just Fit a Million Models Until I Find Something?"
   ]
  },
  {
   "cell_type": "markdown",
   "metadata": {},
   "source": [
    "### No"
   ]
  },
  {
   "cell_type": "markdown",
   "metadata": {},
   "source": [
    "## An Illustration"
   ]
  },
  {
   "cell_type": "markdown",
   "metadata": {},
   "source": [
    "- Sign up for my service and I'll email you a prediction of whether or not the S&P goes up or down that morning\n",
    " - Every work day for two week days I'm right\n",
    " - **What do you need to ask me before you should trust my model?**"
   ]
  },
  {
   "cell_type": "markdown",
   "metadata": {},
   "source": [
    "## How Many Other People Did I Send Emails to?"
   ]
  },
  {
   "cell_type": "markdown",
   "metadata": {},
   "source": [
    "- Two business weeks is 10 business days\n",
    "$$2^{10} = 1024$$\n",
    "- If I sent 1024 people different emails (Up, Down, Up etc.) I'm guarenteed to be right once"
   ]
  },
  {
   "cell_type": "markdown",
   "metadata": {},
   "source": [
    "## The Same Thing Happens With Machine Learning Models"
   ]
  },
  {
   "cell_type": "markdown",
   "metadata": {},
   "source": [
    "- We call this **optimization bias**\n",
    " - Sometimes you find something that fits your validation data set through dumb luck"
   ]
  },
  {
   "cell_type": "markdown",
   "metadata": {},
   "source": [
    "## How do we decrease the Effect of Optimization Bias?"
   ]
  },
  {
   "cell_type": "markdown",
   "metadata": {},
   "source": [
    "- **Cross-validation** (or repeated cross-validation)\n",
    "- Leave a **test set** that you evaluate very rarely (one a week or less)\n",
    "- Set a limit to the number of models you will evaluate"
   ]
  },
  {
   "cell_type": "markdown",
   "metadata": {},
   "source": [
    "## Cross-Validation"
   ]
  },
  {
   "cell_type": "markdown",
   "metadata": {},
   "source": [
    "![https://bradleyboehmke.github.io/hands-on-machine-learning-with-r/regression-performance.html](img/cross-validation.png)"
   ]
  },
  {
   "cell_type": "code",
   "execution_count": 30,
   "metadata": {},
   "outputs": [
    {
     "name": "stdout",
     "output_type": "stream",
     "text": [
      "Depth: 1 Mean: 0.2 SD: 0.0\n",
      "Depth: 2 Mean: 0.36 SD: 0.002\n",
      "Depth: 3 Mean: 0.5 SD: 0.003\n",
      "Depth: 4 Mean: 0.65 SD: 0.002\n",
      "Depth: 5 Mean: 0.71 SD: 0.003\n",
      "Depth: 6 Mean: 0.73 SD: 0.003\n",
      "Depth: 7 Mean: 0.76 SD: 0.003\n",
      "Depth: 8 Mean: 0.79 SD: 0.002\n",
      "Depth: 9 Mean: 0.8 SD: 0.002\n",
      "Depth: 10 Mean: 0.81 SD: 0.003\n",
      "Depth: 11 Mean: 0.81 SD: 0.004\n",
      "Depth: 12 Mean: 0.81 SD: 0.003\n",
      "Depth: 13 Mean: 0.81 SD: 0.003\n",
      "Depth: 14 Mean: 0.81 SD: 0.002\n",
      "Depth: 15 Mean: 0.81 SD: 0.003\n",
      "Depth: 16 Mean: 0.81 SD: 0.004\n",
      "Depth: 17 Mean: 0.81 SD: 0.004\n",
      "Depth: 18 Mean: 0.81 SD: 0.004\n",
      "Depth: 19 Mean: 0.81 SD: 0.005\n"
     ]
    }
   ],
   "source": [
    "cv_scores = []\n",
    "for depth in range(1, 20):\n",
    "    model = DecisionTreeClassifier(\n",
    "        max_depth=depth,\n",
    "    random_state=0)\n",
    "    \n",
    "    cv_score = cross_val_score(\n",
    "        model,\n",
    "        features,\n",
    "        labels,\n",
    "        cv = 5,\n",
    "        n_jobs = -1\n",
    "    )\n",
    "    \n",
    "    print(\"Depth:\", depth,\n",
    "          \"Mean:\", round(np.mean(cv_score), 2), \n",
    "          \"SD:\", round(np.std(cv_score), 3))\n",
    "    \n",
    "    cv_scores.append(cv_score)"
   ]
  },
  {
   "cell_type": "code",
   "execution_count": 32,
   "metadata": {},
   "outputs": [
    {
     "name": "stdout",
     "output_type": "stream",
     "text": [
      "Depth: 1 Mean: 0.2 SD: 0.0\n",
      "Depth: 2 Mean: 0.36 SD: 0.002\n",
      "Depth: 3 Mean: 0.5 SD: 0.004\n",
      "Depth: 4 Mean: 0.65 SD: 0.004\n",
      "Depth: 5 Mean: 0.71 SD: 0.004\n",
      "Depth: 6 Mean: 0.73 SD: 0.003\n",
      "Depth: 7 Mean: 0.77 SD: 0.004\n",
      "Depth: 8 Mean: 0.79 SD: 0.003\n",
      "Depth: 9 Mean: 0.8 SD: 0.003\n",
      "Depth: 10 Mean: 0.81 SD: 0.003\n",
      "Depth: 11 Mean: 0.81 SD: 0.003\n",
      "Depth: 12 Mean: 0.81 SD: 0.003\n",
      "Depth: 13 Mean: 0.81 SD: 0.003\n",
      "Depth: 14 Mean: 0.81 SD: 0.003\n",
      "Depth: 15 Mean: 0.81 SD: 0.004\n",
      "Depth: 16 Mean: 0.81 SD: 0.003\n",
      "Depth: 17 Mean: 0.81 SD: 0.003\n",
      "Depth: 18 Mean: 0.81 SD: 0.003\n",
      "Depth: 19 Mean: 0.8 SD: 0.003\n"
     ]
    }
   ],
   "source": [
    "rcv_scores = []\n",
    "for depth in range(1, 20):\n",
    "    model = DecisionTreeClassifier(\n",
    "        max_depth=depth,\n",
    "    random_state=0)\n",
    "    \n",
    "    rcv = RepeatedStratifiedKFold(\n",
    "        n_splits = 5,\n",
    "        n_repeats = 5,\n",
    "        random_state = 0\n",
    "    )\n",
    "    \n",
    "    rcv_score = cross_val_score(\n",
    "        model,\n",
    "        features,\n",
    "        labels,\n",
    "        cv = rcv,\n",
    "        n_jobs = -1\n",
    "    )\n",
    "    \n",
    "    print(\"Depth:\", depth,\n",
    "          \"Mean:\", round(np.mean(rcv_score), 2), \n",
    "          \"SD:\", round(np.std(rcv_score), 3))\n",
    "    \n",
    "    rcv_scores.append(rcv_score)"
   ]
  },
  {
   "cell_type": "markdown",
   "metadata": {
    "slideshow": {
     "slide_type": "slide"
    }
   },
   "source": [
    "## Summary"
   ]
  },
  {
   "cell_type": "markdown",
   "metadata": {},
   "source": [
    "- Always create a validation set (cross-validation if you have a small amount of data)\n",
    " - Never let information from your validation set leak into to your training\n",
    " - Don't train models for no reason"
   ]
  },
  {
   "cell_type": "markdown",
   "metadata": {
    "slideshow": {
     "slide_type": "slide"
    }
   },
   "source": [
    "## Bibliography\n",
    "\n"
   ]
  }
 ],
 "metadata": {
  "celltoolbar": "Slideshow",
  "kernelspec": {
   "display_name": "Python 3",
   "language": "python",
   "name": "python3"
  },
  "language_info": {
   "codemirror_mode": {
    "name": "ipython",
    "version": 3
   },
   "file_extension": ".py",
   "mimetype": "text/x-python",
   "name": "python",
   "nbconvert_exporter": "python",
   "pygments_lexer": "ipython3",
   "version": "3.6.7"
  }
 },
 "nbformat": 4,
 "nbformat_minor": 2
}
