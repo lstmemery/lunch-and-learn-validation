{
 "cells": [
  {
   "cell_type": "markdown",
   "metadata": {
    "slideshow": {
     "slide_type": "slide"
    }
   },
   "source": [
    "# Model Validation: How to Know How Much Your Model Knows\n",
    "\n",
    "- Matthew Emery - Senior Data Scientist @ [Imbellus Inc.](https://www.imbellus.com/#/)\n",
    "- www.matthewemery.ca\n",
    "- Find the code at https://github.com/lstmemery/lunch-and-learn-validation"
   ]
  },
  {
   "cell_type": "markdown",
   "metadata": {
    "slideshow": {
     "slide_type": "slide"
    }
   },
   "source": [
    "## What Are We Covering?\n",
    "\n",
    " 1. A quick explainer on Fashion MNIST and Decision Trees\n",
    " 2. Overfitting Explanation\n",
    " 3. The Golden Rule of Machine Learning\n",
    " 4. Optimization Bias and Cross-Validation"
   ]
  },
  {
   "cell_type": "code",
   "execution_count": 1,
   "metadata": {
    "slideshow": {
     "slide_type": "skip"
    }
   },
   "outputs": [],
   "source": [
    "from sklearn.tree import DecisionTreeClassifier, export_graphviz\n",
    "import gzip\n",
    "import matplotlib.pyplot as plt\n",
    "from sklearn.model_selection import train_test_split, cross_val_score, RepeatedStratifiedKFold\n",
    "from math import log, sqrt\n",
    "from pathlib import Path\n",
    "import numpy as np\n",
    "import bokeh.plotting as bk\n",
    "import graphviz\n",
    "\n",
    "fmnist_class_names = [\"T-shirt\", \"Trouser\", \"Pullover\", \"Dress\", \"Coat\",\n",
    "                    \"Sandal\", \"Shirt\", \"Sneaker\", \"Bag\", \"Ankle Boot\"]\n",
    "\n",
    "%matplotlib notebook"
   ]
  },
  {
   "cell_type": "code",
   "execution_count": 2,
   "metadata": {
    "slideshow": {
     "slide_type": "notes"
    }
   },
   "outputs": [],
   "source": [
    "with gzip.open(Path(\"data\", \"train-labels-idx1-ubyte.gz\")) as label_path:\n",
    "    labels = np.frombuffer(label_path.read(), dtype=np.uint8,\n",
    "                           offset=8)\n",
    "\n",
    "with gzip.open(Path(\"data\", \"train-images-idx3-ubyte.gz\")) as image_path:\n",
    "    features = np.frombuffer(image_path.read(), \n",
    "                           dtype=np.uint8, \n",
    "                           offset=16).reshape(len(labels), 784)\n",
    "    "
   ]
  },
  {
   "cell_type": "code",
   "execution_count": 5,
   "metadata": {
    "slideshow": {
     "slide_type": "slide"
    }
   },
   "outputs": [
    {
     "data": {
      "text/plain": [
       "<Figure size 3600x3600 with 0 Axes>"
      ]
     },
     "metadata": {},
     "output_type": "display_data"
    },
    {
     "data": {
      "image/png": "[encoded data removed]",
      "text/plain": [
       "<Figure size 1152x1152 with 1 Axes>"
      ]
     },
     "metadata": {
      "needs_background": "light"
     },
     "output_type": "display_data"
    }
   ],
   "source": [
    "plt.gray()\n",
    "plt.matshow(features[0].reshape((28,28))) \n",
    "plt.title(\"Fashion MNIST Example\")\n",
    "plt.rcParams['figure.figsize'] = [50, 50]\n",
    "plt.show()"
   ]
  },
  {
   "cell_type": "code",
   "execution_count": 6,
   "metadata": {},
   "outputs": [
    {
     "data": {
      "text/plain": [
       "array([  0,   0,   0,   0,   0,   0,   0,   0,   0,   0,   0,   0,   0,\n",
       "         0,   0,   0,   0,   0,   0,   0,   0,   0,   0,   0,   0,   0,\n",
       "         0,   0,   0,   0,   0,   0,   0,   0,   0,   0,   0,   0,   0,\n",
       "         0,   0,   0,   0,   0,   0,   0,   0,   0,   0,   0,   0,   0,\n",
       "         0,   0,   0,   0,   0,   0,   0,   0,   0,   0,   0,   0,   0,\n",
       "         0,   0,   0,   0,   0,   0,   0,   0,   0,   0,   0,   0,   0,\n",
       "         0,   0,   0,   0,   0,   0,   0,   0,   0,   0,   0,   0,   0,\n",
       "         0,   0,   0,   0,   0,   1,   0,   0,  13,  73,   0,   0,   1,\n",
       "         4,   0,   0,   0,   0,   1,   1,   0,   0,   0,   0,   0,   0,\n",
       "         0,   0,   0,   0,   0,   0,   0,   3,   0,  36, 136, 127,  62,\n",
       "        54,   0,   0,   0,   1,   3,   4,   0,   0,   3,   0,   0,   0,\n",
       "         0,   0,   0,   0,   0,   0,   0,   0,   0,   6,   0, 102, 204,\n",
       "       176, 134, 144, 123,  23,   0,   0,   0,   0,  12,  10,   0,   0,\n",
       "         0,   0,   0,   0,   0,   0,   0,   0,   0,   0,   0,   0,   0,\n",
       "       155, 236, 207, 178, 107, 156, 161, 109,  64,  23,  77, 130,  72,\n",
       "        15,   0,   0,   0,   0,   0,   0,   0,   0,   0,   0,   0,   1,\n",
       "         0,  69, 207, 223, 218, 216, 216, 163, 127, 121, 122, 146, 141,\n",
       "        88, 172,  66,   0,   0,   0,   0,   0,   0,   0,   0,   0,   1,\n",
       "         1,   1,   0, 200, 232, 232, 233, 229, 223, 223, 215, 213, 164,\n",
       "       127, 123, 196, 229,   0,   0,   0,   0,   0,   0,   0,   0,   0,\n",
       "         0,   0,   0,   0,   0, 183, 225, 216, 223, 228, 235, 227, 224,\n",
       "       222, 224, 221, 223, 245, 173,   0,   0,   0,   0,   0,   0,   0,\n",
       "         0,   0,   0,   0,   0,   0,   0, 193, 228, 218, 213, 198, 180,\n",
       "       212, 210, 211, 213, 223, 220, 243, 202,   0,   0,   0,   0,   0,\n",
       "         0,   0,   0,   0,   0,   1,   3,   0,  12, 219, 220, 212, 218,\n",
       "       192, 169, 227, 208, 218, 224, 212, 226, 197, 209,  52,   0,   0,\n",
       "         0,   0,   0,   0,   0,   0,   0,   0,   6,   0,  99, 244, 222,\n",
       "       220, 218, 203, 198, 221, 215, 213, 222, 220, 245, 119, 167,  56,\n",
       "         0,   0,   0,   0,   0,   0,   0,   0,   0,   4,   0,   0,  55,\n",
       "       236, 228, 230, 228, 240, 232, 213, 218, 223, 234, 217, 217, 209,\n",
       "        92,   0,   0,   0,   1,   4,   6,   7,   2,   0,   0,   0,   0,\n",
       "         0, 237, 226, 217, 223, 222, 219, 222, 221, 216, 223, 229, 215,\n",
       "       218, 255,  77,   0,   0,   3,   0,   0,   0,   0,   0,   0,   0,\n",
       "        62, 145, 204, 228, 207, 213, 221, 218, 208, 211, 218, 224, 223,\n",
       "       219, 215, 224, 244, 159,   0,   0,   0,   0,   0,  18,  44,  82,\n",
       "       107, 189, 228, 220, 222, 217, 226, 200, 205, 211, 230, 224, 234,\n",
       "       176, 188, 250, 248, 233, 238, 215,   0,   0,  57, 187, 208, 224,\n",
       "       221, 224, 208, 204, 214, 208, 209, 200, 159, 245, 193, 206, 223,\n",
       "       255, 255, 221, 234, 221, 211, 220, 232, 246,   0,   3, 202, 228,\n",
       "       224, 221, 211, 211, 214, 205, 205, 205, 220, 240,  80, 150, 255,\n",
       "       229, 221, 188, 154, 191, 210, 204, 209, 222, 228, 225,   0,  98,\n",
       "       233, 198, 210, 222, 229, 229, 234, 249, 220, 194, 215, 217, 241,\n",
       "        65,  73, 106, 117, 168, 219, 221, 215, 217, 223, 223, 224, 229,\n",
       "        29,  75, 204, 212, 204, 193, 205, 211, 225, 216, 185, 197, 206,\n",
       "       198, 213, 240, 195, 227, 245, 239, 223, 218, 212, 209, 222, 220,\n",
       "       221, 230,  67,  48, 203, 183, 194, 213, 197, 185, 190, 194, 192,\n",
       "       202, 214, 219, 221, 220, 236, 225, 216, 199, 206, 186, 181, 177,\n",
       "       172, 181, 205, 206, 115,   0, 122, 219, 193, 179, 171, 183, 196,\n",
       "       204, 210, 213, 207, 211, 210, 200, 196, 194, 191, 195, 191, 198,\n",
       "       192, 176, 156, 167, 177, 210,  92,   0,   0,  74, 189, 212, 191,\n",
       "       175, 172, 175, 181, 185, 188, 189, 188, 193, 198, 204, 209, 210,\n",
       "       210, 211, 188, 188, 194, 192, 216, 170,   0,   2,   0,   0,   0,\n",
       "        66, 200, 222, 237, 239, 242, 246, 243, 244, 221, 220, 193, 191,\n",
       "       179, 182, 182, 181, 176, 166, 168,  99,  58,   0,   0,   0,   0,\n",
       "         0,   0,   0,   0,   0,  40,  61,  44,  72,  41,  35,   0,   0,\n",
       "         0,   0,   0,   0,   0,   0,   0,   0,   0,   0,   0,   0,   0,\n",
       "         0,   0,   0,   0,   0,   0,   0,   0,   0,   0,   0,   0,   0,\n",
       "         0,   0,   0,   0,   0,   0,   0,   0,   0,   0,   0,   0,   0,\n",
       "         0,   0,   0,   0,   0,   0,   0,   0,   0,   0,   0,   0,   0,\n",
       "         0,   0,   0,   0,   0,   0,   0,   0,   0,   0,   0,   0,   0,\n",
       "         0,   0,   0,   0], dtype=uint8)"
      ]
     },
     "execution_count": 6,
     "metadata": {},
     "output_type": "execute_result"
    }
   ],
   "source": [
    "features[0]"
   ]
  },
  {
   "cell_type": "markdown",
   "metadata": {
    "slideshow": {
     "slide_type": "notes"
    }
   },
   "source": [
    "- When I first wrote this tutorial, I used MNIST\n",
    "- Then I found out about Fashion MNIST\n",
    "- Benefits:\n",
    "    1. Harder than MNIST\n",
    "    2. Less used than MNIST\n",
    "    3. Better represents modern computer vision tasks\n",
    "- How many of you have heard of MNIST?\n"
   ]
  },
  {
   "cell_type": "markdown",
   "metadata": {
    "slideshow": {
     "slide_type": "slide"
    }
   },
   "source": [
    "## A Quick Explainer on Decision Trees\n",
    "\n",
    "![](img/decision_tree.png)"
   ]
  },
  {
   "cell_type": "markdown",
   "metadata": {
    "slideshow": {
     "slide_type": "notes"
    }
   },
   "source": [
    "- A decision tree is trained by looking at each pixel value and seeing what breakpoint would split classes the best\n",
    "- Pick the best pixel to split on and continue\n",
    "- The size of the tree is a hyperparameter\n",
    "- I decided to choose a decision tree to illustrate this for a couple of reasons\n",
    "  1. Decision Trees are easy to understand\n",
    "  2. No need to do any preprocessing\n",
    "  3. It shows that even simple models can do simple computer vision tasks"
   ]
  },
  {
   "cell_type": "markdown",
   "metadata": {
    "slideshow": {
     "slide_type": "slide"
    }
   },
   "source": [
    "## Train Test Split\n",
    "\n",
    "<img src=\"img/splitting-data.jpg\" alt=\"https://www.includehelp.com/ml-ai/data-splitting.aspx\" width=\"20%\" height=\"20%\" class=\"center\">"
   ]
  },
  {
   "cell_type": "code",
   "execution_count": 4,
   "metadata": {
    "slideshow": {
     "slide_type": "fragment"
    }
   },
   "outputs": [],
   "source": [
    "(train_features, validation_features,\n",
    " train_labels, validation_labels) = train_test_split(\n",
    "    features,\n",
    "    labels,\n",
    "    random_state=0,\n",
    "    shuffle=True,\n",
    "    test_size=0.20, # This is fine enough\n",
    "    stratify=labels\n",
    ")"
   ]
  },
  {
   "cell_type": "markdown",
   "metadata": {
    "slideshow": {
     "slide_type": "notes"
    }
   },
   "source": [
    "- This is the core way we evaluate models\n",
    "- If we train on one dataset, how well does it do on the holdout?\n",
    "- Always set a seed so you can compare \n",
    "- Test size is traditionally 80/20 - this mostly folklore though\n",
    "- Do not shuffle if you are dealing with time series\n",
    "- Stratification is essential when you are dealing with unbalanced labels"
   ]
  },
  {
   "cell_type": "code",
   "execution_count": 5,
   "metadata": {
    "slideshow": {
     "slide_type": "slide"
    }
   },
   "outputs": [
    {
     "name": "stdout",
     "output_type": "stream",
     "text": [
      "Depth: 1 Training Accuracy: 0.2\n",
      "Depth: 2 Training Accuracy: 0.36\n",
      "Depth: 3 Training Accuracy: 0.5\n",
      "Depth: 4 Training Accuracy: 0.65\n",
      "Depth: 5 Training Accuracy: 0.71\n",
      "Depth: 6 Training Accuracy: 0.74\n",
      "Depth: 7 Training Accuracy: 0.78\n",
      "Depth: 8 Training Accuracy: 0.81\n",
      "Depth: 9 Training Accuracy: 0.83\n",
      "Depth: 10 Training Accuracy: 0.85\n",
      "Depth: 11 Training Accuracy: 0.87\n",
      "Depth: 12 Training Accuracy: 0.89\n",
      "Depth: 13 Training Accuracy: 0.91\n",
      "Depth: 14 Training Accuracy: 0.93\n",
      "Depth: 15 Training Accuracy: 0.94\n",
      "Depth: 16 Training Accuracy: 0.96\n",
      "Depth: 17 Training Accuracy: 0.97\n",
      "Depth: 18 Training Accuracy: 0.98\n",
      "Depth: 19 Training Accuracy: 0.98\n"
     ]
    }
   ],
   "source": [
    "models, train_scores = [], []\n",
    "\n",
    "for depth in range(1, 20):\n",
    "    model = DecisionTreeClassifier(max_depth=depth, random_state=0)\n",
    "    model.fit(train_features, train_labels)\n",
    "    \n",
    "    score = model.score(train_features, train_labels)\n",
    "    print(\"Depth:\", depth, \"Training Accuracy:\", round(score, 2))\n",
    "    models.append(model); train_scores.append(score)"
   ]
  },
  {
   "cell_type": "code",
   "execution_count": 6,
   "metadata": {
    "slideshow": {
     "slide_type": "skip"
    }
   },
   "outputs": [
    {
     "data": {
      "text/plain": [
       "'img/decision_tree.png'"
      ]
     },
     "execution_count": 6,
     "metadata": {},
     "output_type": "execute_result"
    }
   ],
   "source": [
    "# This is how the first Decision Tree Illustration Was Made\n",
    "graph_data = export_graphviz(models[1],\n",
    "                            filled=True,\n",
    "                            rounded=True,\n",
    "                            class_names=fmnist_class_names)\n",
    "graph = graphviz.Source(graph_data, format=\"png\")\n",
    "graph.render(\"decision_tree\", \"img\")"
   ]
  },
  {
   "cell_type": "code",
   "execution_count": 7,
   "metadata": {
    "scrolled": true,
    "slideshow": {
     "slide_type": "slide"
    }
   },
   "outputs": [
    {
     "name": "stdout",
     "output_type": "stream",
     "text": [
      "Depth: 0 Validation Accuracy: 0.2\n",
      "Depth: 1 Validation Accuracy: 0.36\n",
      "Depth: 2 Validation Accuracy: 0.5\n",
      "Depth: 3 Validation Accuracy: 0.65\n",
      "Depth: 4 Validation Accuracy: 0.71\n",
      "Depth: 5 Validation Accuracy: 0.73\n",
      "Depth: 6 Validation Accuracy: 0.76\n",
      "Depth: 7 Validation Accuracy: 0.78\n",
      "Depth: 8 Validation Accuracy: 0.8\n",
      "Depth: 9 Validation Accuracy: 0.81\n",
      "Depth: 10 Validation Accuracy: 0.81\n",
      "Depth: 11 Validation Accuracy: 0.81\n",
      "Depth: 12 Validation Accuracy: 0.82\n",
      "Depth: 13 Validation Accuracy: 0.81\n",
      "Depth: 14 Validation Accuracy: 0.81\n",
      "Depth: 15 Validation Accuracy: 0.81\n",
      "Depth: 16 Validation Accuracy: 0.81\n",
      "Depth: 17 Validation Accuracy: 0.81\n",
      "Depth: 18 Validation Accuracy: 0.8\n"
     ]
    }
   ],
   "source": [
    "validation_scores = []\n",
    "\n",
    "for depth, model in enumerate(models):\n",
    "    score = model.score(validation_features, validation_labels)\n",
    "    print(\"Depth:\", depth, \"Validation Accuracy:\", round(score, 2))\n",
    "    validation_scores.append(score)"
   ]
  },
  {
   "cell_type": "code",
   "execution_count": 8,
   "metadata": {
    "slideshow": {
     "slide_type": "slide"
    }
   },
   "outputs": [],
   "source": [
    "plot_1 = bk.figure(title=\"Training vs. Validation Accuracy\",\n",
    "    )\n",
    "plot_1.xaxis.axis_label = \"Depth\"\n",
    "plot_1.yaxis.axis_label = \"Accruacy\"\n",
    "plot_1.line(x = range(1, 20), y = train_scores, \n",
    "            line_width = 5, color = \"blue\", legend = \"Training Accuracy\")\n",
    "plot_1.line(x = range(1, 20), y = validation_scores, \n",
    "            line_width = 5, color = \"orange\", legend = \"Validation Accuracy\")\n",
    "bk.show(plot_1)"
   ]
  },
  {
   "cell_type": "markdown",
   "metadata": {
    "slideshow": {
     "slide_type": "slide"
    }
   },
   "source": [
    "![](img/bokeh_plot.png)"
   ]
  },
  {
   "cell_type": "markdown",
   "metadata": {
    "slideshow": {
     "slide_type": "notes"
    }
   },
   "source": [
    " - If you want to show Bokeh plots inline you need\n",
    "\n",
    "`jupyter labextension install jupyterlab_bokeh`"
   ]
  },
  {
   "cell_type": "markdown",
   "metadata": {
    "slideshow": {
     "slide_type": "slide"
    }
   },
   "source": [
    "## Overfitting\n",
    "\n",
    " - The gap between training and validation accuracy is **overfitting**\n",
    " - **Interpretation**: Our model has memorized part of the data set instead of learning the underlying rules\n",
    " - If the validation accuracy was higher than our training that's **underfitting**"
   ]
  },
  {
   "cell_type": "markdown",
   "metadata": {
    "slideshow": {
     "slide_type": "slide"
    }
   },
   "source": [
    "## Think About Studying for an Exam\n",
    "\n",
    "- Training your model is like the model reviewing its notes\n",
    "- Validating your model is when you take the midterm\n",
    "- Deploying your model is the final"
   ]
  },
  {
   "cell_type": "markdown",
   "metadata": {
    "slideshow": {
     "slide_type": "slide"
    }
   },
   "source": [
    "## Golden Rule of Machine Learning:"
   ]
  },
  {
   "cell_type": "markdown",
   "metadata": {
    "slideshow": {
     "slide_type": "fragment"
    }
   },
   "source": [
    "# The test cannot influence training in any way\n",
    "\n",
    "- If you know the answers on the exam ahead of time, you won't know if you actually learned the material"
   ]
  },
  {
   "cell_type": "markdown",
   "metadata": {
    "slideshow": {
     "slide_type": "slide"
    }
   },
   "source": [
    "## Common Mistakes\n",
    "\n",
    " - Time Series: Incorporating information from the future in your model (i.e., quarterly results before end-of-quarter)\n",
    " - Imputing based on the combined train-test dataset\n",
    " - Taking a peek on the test data halfway through training your model"
   ]
  },
  {
   "cell_type": "markdown",
   "metadata": {
    "slideshow": {
     "slide_type": "slide"
    }
   },
   "source": [
    "## Should I Just Fit a Million Models Until I Find Something?"
   ]
  },
  {
   "cell_type": "markdown",
   "metadata": {
    "slideshow": {
     "slide_type": "fragment"
    }
   },
   "source": [
    "# No!"
   ]
  },
  {
   "cell_type": "markdown",
   "metadata": {
    "slideshow": {
     "slide_type": "slide"
    }
   },
   "source": [
    "## An Illustration\n",
    "\n",
    "\n",
    " - Sign up for my service, and I'll email you a prediction of whether or not the S&P 500 goes up or down that morning\n",
    " - Every work day for two weeks I'm right\n",
    " - **What do you need to ask me before you should trust my model?**"
   ]
  },
  {
   "cell_type": "markdown",
   "metadata": {
    "slideshow": {
     "slide_type": "slide"
    }
   },
   "source": [
    "## How Many Other People Did I Send Emails To?\n",
    "\n",
    "- Two business weeks is 10 business days\n",
    "$$2^{10} = 1024$$\n",
    "- If I sent 1024 people different emails (Up, Down, Up, etc.) I'm guaranteed to be right once"
   ]
  },
  {
   "cell_type": "markdown",
   "metadata": {
    "slideshow": {
     "slide_type": "slide"
    }
   },
   "source": [
    "## The Same Thing Happens with Machine Learning Models\n",
    "\n",
    " - We call this **optimization bias**\n",
    " - Sometimes you find something that fits your validation data set through dumb luck"
   ]
  },
  {
   "cell_type": "markdown",
   "metadata": {
    "slideshow": {
     "slide_type": "slide"
    }
   },
   "source": [
    "## How Do We Decrease the Effect of Optimization Bias?\n",
    "\n",
    "- **Cross-validation** (or repeated cross-validation)\n",
    "- Leave a **test set** that you evaluate very rarely (once a week or less)\n",
    "- Set a limit to the number of models you will evaluate"
   ]
  },
  {
   "cell_type": "markdown",
   "metadata": {
    "slideshow": {
     "slide_type": "slide"
    }
   },
   "source": [
    "## Cross-Validation\n",
    "\n",
    "![https://bradleyboehmke.github.io/hands-on-machine-learning-with-r/regression-performance.html](img/cross-validation.png)"
   ]
  },
  {
   "cell_type": "code",
   "execution_count": 9,
   "metadata": {
    "slideshow": {
     "slide_type": "slide"
    }
   },
   "outputs": [
    {
     "name": "stdout",
     "output_type": "stream",
     "text": [
      "Depth: 1 Mean: 0.2 SD: 0.0\n",
      "Depth: 2 Mean: 0.36 SD: 0.002\n",
      "Depth: 3 Mean: 0.5 SD: 0.003\n",
      "Depth: 4 Mean: 0.65 SD: 0.002\n",
      "Depth: 5 Mean: 0.71 SD: 0.003\n",
      "Depth: 6 Mean: 0.73 SD: 0.003\n",
      "Depth: 7 Mean: 0.76 SD: 0.003\n",
      "Depth: 8 Mean: 0.79 SD: 0.002\n",
      "Depth: 9 Mean: 0.8 SD: 0.002\n",
      "Depth: 10 Mean: 0.81 SD: 0.003\n",
      "Depth: 11 Mean: 0.81 SD: 0.004\n",
      "Depth: 12 Mean: 0.81 SD: 0.003\n",
      "Depth: 13 Mean: 0.81 SD: 0.003\n",
      "Depth: 14 Mean: 0.81 SD: 0.002\n",
      "Depth: 15 Mean: 0.81 SD: 0.003\n",
      "Depth: 16 Mean: 0.81 SD: 0.004\n",
      "Depth: 17 Mean: 0.81 SD: 0.004\n",
      "Depth: 18 Mean: 0.81 SD: 0.004\n",
      "Depth: 19 Mean: 0.81 SD: 0.005\n"
     ]
    }
   ],
   "source": [
    "cv_scores = []\n",
    "for depth in range(1, 20):\n",
    "    model = DecisionTreeClassifier(max_depth=depth, random_state=0)\n",
    "    \n",
    "    cv_score = cross_val_score(\n",
    "        model, features, labels, cv = 5, n_jobs = -1\n",
    "    )\n",
    "    \n",
    "    print(\"Depth:\", depth, \"Mean:\", round(np.mean(cv_score), 2), \n",
    "          \"SD:\", round(np.std(cv_score), 3))\n",
    "    \n",
    "    cv_scores.append(cv_score)"
   ]
  },
  {
   "cell_type": "code",
   "execution_count": 10,
   "metadata": {
    "slideshow": {
     "slide_type": "slide"
    }
   },
   "outputs": [],
   "source": [
    "plot_2 = plot_1\n",
    "\n",
    "plot_2.line(x = range(1, 20), y = np.mean(cv_scores, axis=-1), \n",
    "            line_width = 5, color = \"purple\", legend = \"Cross Validation Accuracy\")\n",
    "bk.show(plot_2)"
   ]
  },
  {
   "cell_type": "markdown",
   "metadata": {
    "slideshow": {
     "slide_type": "slide"
    }
   },
   "source": [
    "![](img/bokeh_plot_cv.png)"
   ]
  },
  {
   "cell_type": "markdown",
   "metadata": {
    "slideshow": {
     "slide_type": "notes"
    }
   },
   "source": [
    "- Notice that this doesn't change much\n",
    "- This is because we already have sufficient data to get an accurate result\n",
    "- Try this on a smaller dataset\n",
    "- This is good news, cross-validation takes longer than validation"
   ]
  },
  {
   "cell_type": "markdown",
   "metadata": {
    "slideshow": {
     "slide_type": "slide"
    }
   },
   "source": [
    "## Summary\n",
    "\n",
    " - Always create a validation set (cross-validation if you have a small amount of data)\n",
    " - Never let information from your validation set leak into to your training\n",
    " - Don't train models for no reason"
   ]
  },
  {
   "cell_type": "markdown",
   "metadata": {
    "slideshow": {
     "slide_type": "slide"
    }
   },
   "source": [
    "## Bibliography\n",
    "\n",
    "\n",
    "[1] “Data splitting | Machine Learning.” [Online]. Available: https://www.includehelp.com/ml-ai/data-splitting.aspx. [Accessed: 17-Mar-2019].\n",
    "\n",
    "[2]“1.10. Decision Trees — scikit-learn 0.20.3 documentation.” [Online]. Available: https://scikit-learn.org/stable/modules/tree.html#tree. [Accessed: 17-Mar-2019].\n",
    "\n",
    "[3]M. Schmidt, “DSCI 573: Model Selection and Feature Selection 1.”\n",
    "\n",
    "[4]T. Sarkar, “How to analyze ‘Learning’: Short tour of computational learning theory,” Towards Data Science, 26-Oct-2018. [Online]. Available: https://towardsdatascience.com/how-to-analyze-learning-short-tour-of-computational-learning-theory-9d93b15fc3e5. [Accessed: 03-Mar-2019].\n",
    "\n",
    "[5]A MNIST-like fashion product database. Benchmark :point_right: : zalandoresearch/fashion-mnist. Zalando Research, 2019.\n",
    "\n",
    "[6]I. Guyon and T. B. Laboratories, “A scaling law for the validation-set training-set size ratio,” p. 11."
   ]
  }
 ],
 "metadata": {
  "celltoolbar": "Slideshow",
  "kernelspec": {
   "display_name": "Python 3",
   "language": "python",
   "name": "python3"
  },
  "language_info": {
   "codemirror_mode": {
    "name": "ipython",
    "version": 3
   },
   "file_extension": ".py",
   "mimetype": "text/x-python",
   "name": "python",
   "nbconvert_exporter": "python",
   "pygments_lexer": "ipython3",
   "version": "3.6.5"
  }
 },
 "nbformat": 4,
 "nbformat_minor": 2
}
