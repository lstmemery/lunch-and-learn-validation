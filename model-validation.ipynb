{
 "cells": [
  {
   "cell_type": "markdown",
   "metadata": {
    "slideshow": {
     "slide_type": "slide"
    }
   },
   "source": [
    "# Model Validation: How to Know How Much Your Model Knows\n",
    "\n",
    "- Matthew Emery - Senior Data Scientist @ [Imbellus Inc.](https://www.imbellus.com/#/)\n",
    "- www.matthewemery.ca\n",
    "- Find the code at https://github.com/lstmemery/lunch-and-learn-validation"
   ]
  },
  {
   "cell_type": "markdown",
   "metadata": {
    "slideshow": {
     "slide_type": "slide"
    }
   },
   "source": [
    "## What Are We Covering?\n",
    "\n",
    " 1. Quick explainer on Fashion MNIST and Decision Trees\n",
    " 2. Overfitting Explanation\n",
    " 3. The Golden Rule of Machine Learning\n",
    " 4. Optimization Bias and Cross-Validation"
   ]
  },
  {
   "cell_type": "code",
   "execution_count": 14,
   "metadata": {
    "slideshow": {
     "slide_type": "skip"
    }
   },
   "outputs": [],
   "source": [
    "from sklearn.tree import DecisionTreeClassifier, export_graphviz\n",
    "import gzip\n",
    "import matplotlib.pyplot as plt\n",
    "from sklearn.model_selection import train_test_split, cross_val_score, RepeatedStratifiedKFold\n",
    "from math import log, sqrt\n",
    "from pathlib import Path\n",
    "import numpy as np\n",
    "import bokeh.plotting as bk\n",
    "from tqdm import tqdm_notebook\n",
    "import graphviz\n",
    "import pandas as pd\n",
    "\n",
    "fmnist_class_names = [\"T-shirt\", \"Trouser\", \"Pullover\", \"Dress\", \"Coat\",\n",
    "                    \"Sandal\", \"Shirt\", \"Sneaker\", \"Bag\", \"Ankle Boot\"]\n",
    "\n",
    "%matplotlib notebook"
   ]
  },
  {
   "cell_type": "code",
   "execution_count": 11,
   "metadata": {
    "slideshow": {
     "slide_type": "notes"
    }
   },
   "outputs": [],
   "source": [
    "with gzip.open(Path(\"data\", \"train-labels-idx1-ubyte.gz\")) as label_path:\n",
    "    labels = np.frombuffer(label_path.read(), dtype=np.uint8,\n",
    "                           offset=8)\n",
    "\n",
    "with gzip.open(Path(\"data\", \"train-images-idx3-ubyte.gz\")) as image_path:\n",
    "    features = np.frombuffer(image_path.read(), \n",
    "                           dtype=np.uint8, \n",
    "                           offset=16).reshape(len(labels), 784)\n",
    "    "
   ]
  },
  {
   "cell_type": "code",
   "execution_count": 8,
   "metadata": {
    "slideshow": {
     "slide_type": "slide"
    }
   },
   "outputs": [
    {
     "data": {
      "text/plain": [
       "<Figure size 360x360 with 0 Axes>"
      ]
     },
     "metadata": {},
     "output_type": "display_data"
    },
    {
     "data": {
      "image/png": "[encoded data removed]",
      "text/plain": [
       "<Figure size 360x360 with 1 Axes>"
      ]
     },
     "metadata": {
      "needs_background": "light"
     },
     "output_type": "display_data"
    }
   ],
   "source": [
    "plt.gray()\n",
    "plt.matshow(features[0].reshape((28,28))) \n",
    "plt.title(\"Fashion MNIST Example\")\n",
    "plt.rcParams['figure.figsize'] = [50, 50]\n",
    "plt.show()"
   ]
  },
  {
   "cell_type": "markdown",
   "metadata": {
    "slideshow": {
     "slide_type": "notes"
    }
   },
   "source": [
    "- When I first wrote this tutorial I used MNIST\n",
    "- Then I found out about Fashion MNIST\n",
    "- Benefits:\n",
    "    1. Harder than MNIST\n",
    "    2. Less used than MNIST\n",
    "    3. Better represents modern computer vision tasks\n",
    "- How many of you have heard of MNIST?\n"
   ]
  },
  {
   "cell_type": "markdown",
   "metadata": {
    "slideshow": {
     "slide_type": "slide"
    }
   },
   "source": [
    "## A Quick Explainer on Decision Trees\n",
    "\n",
    "![](img/decision_tree.png)"
   ]
  },
  {
   "cell_type": "code",
   "execution_count": 23,
   "metadata": {
    "slideshow": {
     "slide_type": "skip"
    }
   },
   "outputs": [
    {
     "data": {
      "text/plain": [
       "'img/decision_tree.png'"
      ]
     },
     "execution_count": 23,
     "metadata": {},
     "output_type": "execute_result"
    }
   ],
   "source": [
    "graph_data = export_graphviz(models[1],\n",
    "                            filled=True,\n",
    "                            rounded=True,\n",
    "                            class_names=fmnist_class_names)\n",
    "graph = graphviz.Source(graph_data, format=\"png\")\n",
    "graph.render(\"decision_tree\", \"img\")"
   ]
  },
  {
   "cell_type": "markdown",
   "metadata": {
    "slideshow": {
     "slide_type": "notes"
    }
   },
   "source": [
    "- A decision tree is trained by looking at each pixel value and seeing what breakpoint would split classes the best\n",
    "- Pick the best pixel to split on and continue\n",
    "- The size of the tree is a hyperparameter\n",
    "- I decided to choose a decision tree to illustrate this for a couple of reasons\n",
    "  1. Decision Trees are really easy to understand\n",
    "  2. No need to do any preprocessing\n",
    "  3. It shows that even very simple models can do simple computer vision tasks"
   ]
  },
  {
   "cell_type": "markdown",
   "metadata": {
    "slideshow": {
     "slide_type": "slide"
    }
   },
   "source": [
    "## Train Test Split\n",
    "\n",
    "<img src=\"img/splitting-data.jpg\" alt=\"https://www.includehelp.com/ml-ai/data-splitting.aspx\" width=\"20%\" height=\"20%\" class=\"center\">"
   ]
  },
  {
   "cell_type": "code",
   "execution_count": 12,
   "metadata": {
    "slideshow": {
     "slide_type": "fragment"
    }
   },
   "outputs": [],
   "source": [
    "(train_features, validation_features,\n",
    " train_labels, validation_labels) = train_test_split(\n",
    "    features,\n",
    "    labels,\n",
    "    random_state=0,\n",
    "    shuffle=True,\n",
    "    test_size=0.20, # This is fine enough\n",
    "    stratify=labels\n",
    ")"
   ]
  },
  {
   "cell_type": "markdown",
   "metadata": {
    "slideshow": {
     "slide_type": "notes"
    }
   },
   "source": [
    "- This is the core way we evaluate models\n",
    "- If we train on one dataset, how well does it do on the holdout?\n",
    "- Always set a seed so you can compare \n",
    "- Test size is traditionally 80/20 - this mostly folk lore though\n",
    "- Do not shuffle if you are dealing with time series\n",
    "- Stratification is important when you are dealing with unbalanced labels"
   ]
  },
  {
   "cell_type": "code",
   "execution_count": 15,
   "metadata": {
    "slideshow": {
     "slide_type": "slide"
    }
   },
   "outputs": [
    {
     "name": "stdout",
     "output_type": "stream",
     "text": [
      "Depth: 1 Training Accuracy: 0.2\n",
      "Depth: 2 Training Accuracy: 0.36\n",
      "Depth: 3 Training Accuracy: 0.5\n",
      "Depth: 4 Training Accuracy: 0.65\n",
      "Depth: 5 Training Accuracy: 0.71\n",
      "Depth: 6 Training Accuracy: 0.74\n",
      "Depth: 7 Training Accuracy: 0.78\n",
      "Depth: 8 Training Accuracy: 0.81\n",
      "Depth: 9 Training Accuracy: 0.83\n",
      "Depth: 10 Training Accuracy: 0.85\n",
      "Depth: 11 Training Accuracy: 0.87\n",
      "Depth: 12 Training Accuracy: 0.89\n",
      "Depth: 13 Training Accuracy: 0.91\n",
      "Depth: 14 Training Accuracy: 0.93\n",
      "Depth: 15 Training Accuracy: 0.94\n",
      "Depth: 16 Training Accuracy: 0.96\n",
      "Depth: 17 Training Accuracy: 0.97\n",
      "Depth: 18 Training Accuracy: 0.98\n",
      "Depth: 19 Training Accuracy: 0.98\n"
     ]
    }
   ],
   "source": [
    "models, train_scores = [], []\n",
    "\n",
    "for depth in range(1, 20):\n",
    "    model = DecisionTreeClassifier(max_depth=depth, random_state=0)\n",
    "    model.fit(train_features, train_labels)\n",
    "    \n",
    "    score = model.score(train_features, train_labels)\n",
    "    print(\"Depth:\", depth, \"Training Accuracy:\", round(score, 2))\n",
    "    models.append(model); train_scores.append(score)"
   ]
  },
  {
   "cell_type": "code",
   "execution_count": 16,
   "metadata": {
    "scrolled": true,
    "slideshow": {
     "slide_type": "slide"
    }
   },
   "outputs": [
    {
     "name": "stdout",
     "output_type": "stream",
     "text": [
      "Depth: 0 Validation Accuracy: 0.2\n",
      "Depth: 1 Validation Accuracy: 0.36\n",
      "Depth: 2 Validation Accuracy: 0.5\n",
      "Depth: 3 Validation Accuracy: 0.65\n",
      "Depth: 4 Validation Accuracy: 0.71\n",
      "Depth: 5 Validation Accuracy: 0.73\n",
      "Depth: 6 Validation Accuracy: 0.76\n",
      "Depth: 7 Validation Accuracy: 0.78\n",
      "Depth: 8 Validation Accuracy: 0.8\n",
      "Depth: 9 Validation Accuracy: 0.81\n",
      "Depth: 10 Validation Accuracy: 0.81\n",
      "Depth: 11 Validation Accuracy: 0.81\n",
      "Depth: 12 Validation Accuracy: 0.82\n",
      "Depth: 13 Validation Accuracy: 0.81\n",
      "Depth: 14 Validation Accuracy: 0.81\n",
      "Depth: 15 Validation Accuracy: 0.81\n",
      "Depth: 16 Validation Accuracy: 0.81\n",
      "Depth: 17 Validation Accuracy: 0.81\n",
      "Depth: 18 Validation Accuracy: 0.8\n"
     ]
    }
   ],
   "source": [
    "validation_scores = []\n",
    "\n",
    "for depth, model in enumerate(models):\n",
    "    score = model.score(validation_features, validation_labels)\n",
    "    print(\"Depth:\", depth, \"Validation Accuracy:\", round(score, 2))\n",
    "    validation_scores.append(score)"
   ]
  },
  {
   "cell_type": "code",
   "execution_count": 24,
   "metadata": {
    "slideshow": {
     "slide_type": "slide"
    }
   },
   "outputs": [],
   "source": [
    "plot_1 = bk.figure(title=\"Training vs. Validation Accuracy\",\n",
    "    )\n",
    "plot_1.xaxis.axis_label = \"Depth\"\n",
    "plot_1.yaxis.axis_label = \"Accruacy\"\n",
    "plot_1.line(x = range(1, 20), y = train_scores, \n",
    "            line_width = 5, color = \"blue\", legend = \"Training Accuracy\")\n",
    "plot_1.line(x = range(1, 20), y = validation_scores, \n",
    "            line_width = 5, color = \"orange\", legend = \"Validation Accuracy\")\n",
    "bk.show(plot_1)"
   ]
  },
  {
   "cell_type": "markdown",
   "metadata": {
    "slideshow": {
     "slide_type": "slide"
    }
   },
   "source": [
    "![](img/bokeh_plot.png)"
   ]
  },
  {
   "cell_type": "markdown",
   "metadata": {
    "slideshow": {
     "slide_type": "notes"
    }
   },
   "source": [
    " - If you want to show Bokeh plots inline you need\n",
    "\n",
    "`jupyter labextension install jupyterlab_bokeh`"
   ]
  },
  {
   "cell_type": "markdown",
   "metadata": {
    "slideshow": {
     "slide_type": "slide"
    }
   },
   "source": [
    "## Overfitting\n",
    "\n",
    "- The gap between training and validation accuracy is **overfitting**\n",
    " - **Interpretation**: Our model has memorized part of the data set instead of learning the underlying rules\n",
    " - If the validation accuracy was higher than our training that's **underfitting**"
   ]
  },
  {
   "cell_type": "markdown",
   "metadata": {
    "slideshow": {
     "slide_type": "slide"
    }
   },
   "source": [
    "## Think About Studying for an Exam\n",
    "\n",
    "- Training your model is like the model reviewing its notes\n",
    "- Validating your model is when you take the midterm\n",
    "- Deploying your model is the final"
   ]
  },
  {
   "cell_type": "markdown",
   "metadata": {
    "slideshow": {
     "slide_type": "slide"
    }
   },
   "source": [
    "## Golden Rule of Machine Learning:"
   ]
  },
  {
   "cell_type": "markdown",
   "metadata": {
    "slideshow": {
     "slide_type": "fragment"
    }
   },
   "source": [
    "# The test cannot influence training in any way\n",
    "\n",
    "- If you know the answers on the exam ahead of time, you won't know if you actually learned the material"
   ]
  },
  {
   "cell_type": "markdown",
   "metadata": {
    "slideshow": {
     "slide_type": "slide"
    }
   },
   "source": [
    "## Common Mistakes\n",
    "\n",
    " - Time Series: Incorporating information from the future in your model (i.e. quarterly results before end of quarter)\n",
    " - Imputing based on the combined train-test dataset\n",
    " - Taking a peek on the test data halfway through training your model"
   ]
  },
  {
   "cell_type": "markdown",
   "metadata": {
    "slideshow": {
     "slide_type": "slide"
    }
   },
   "source": [
    "## Should I Just Fit a Million Models Until I Find Something?"
   ]
  },
  {
   "cell_type": "markdown",
   "metadata": {
    "slideshow": {
     "slide_type": "fragment"
    }
   },
   "source": [
    "# No!"
   ]
  },
  {
   "cell_type": "markdown",
   "metadata": {
    "slideshow": {
     "slide_type": "slide"
    }
   },
   "source": [
    "## An Illustration\n",
    "\n",
    "\n",
    " - Sign up for my service and I'll email you a prediction of whether or not the S&P 500 goes up or down that morning\n",
    " - Every work day for two week days I'm right\n",
    " - **What do you need to ask me before you should trust my model?**"
   ]
  },
  {
   "cell_type": "markdown",
   "metadata": {
    "slideshow": {
     "slide_type": "slide"
    }
   },
   "source": [
    "## How Many Other People Did I Send Emails To?\n",
    "\n",
    "- Two business weeks is 10 business days\n",
    "$$2^{10} = 1024$$\n",
    "- If I sent 1024 people different emails (Up, Down, Up etc.) I'm guarenteed to be right once"
   ]
  },
  {
   "cell_type": "markdown",
   "metadata": {
    "slideshow": {
     "slide_type": "slide"
    }
   },
   "source": [
    "## The Same Thing Happens with Machine Learning Models\n",
    "\n",
    " - We call this **optimization bias**\n",
    " - Sometimes you find something that fits your validation data set through dumb luck"
   ]
  },
  {
   "cell_type": "markdown",
   "metadata": {
    "slideshow": {
     "slide_type": "slide"
    }
   },
   "source": [
    "## How Do We Decrease the Effect of Optimization Bias?\n",
    "\n",
    "- **Cross-validation** (or repeated cross-validation)\n",
    "- Leave a **test set** that you evaluate very rarely (one a week or less)\n",
    "- Set a limit to the number of models you will evaluate"
   ]
  },
  {
   "cell_type": "markdown",
   "metadata": {
    "slideshow": {
     "slide_type": "slide"
    }
   },
   "source": [
    "## Cross-Validation\n",
    "\n",
    "![https://bradleyboehmke.github.io/hands-on-machine-learning-with-r/regression-performance.html](img/cross-validation.png)"
   ]
  },
  {
   "cell_type": "code",
   "execution_count": 20,
   "metadata": {
    "slideshow": {
     "slide_type": "slide"
    }
   },
   "outputs": [
    {
     "name": "stdout",
     "output_type": "stream",
     "text": [
      "Depth: 1 Mean: 0.2 SD: 0.0\n",
      "Depth: 2 Mean: 0.36 SD: 0.002\n",
      "Depth: 3 Mean: 0.5 SD: 0.003\n",
      "Depth: 4 Mean: 0.65 SD: 0.002\n",
      "Depth: 5 Mean: 0.71 SD: 0.003\n",
      "Depth: 6 Mean: 0.73 SD: 0.003\n",
      "Depth: 7 Mean: 0.76 SD: 0.003\n",
      "Depth: 8 Mean: 0.79 SD: 0.002\n",
      "Depth: 9 Mean: 0.8 SD: 0.002\n",
      "Depth: 10 Mean: 0.81 SD: 0.003\n",
      "Depth: 11 Mean: 0.81 SD: 0.004\n",
      "Depth: 12 Mean: 0.81 SD: 0.003\n",
      "Depth: 13 Mean: 0.81 SD: 0.003\n",
      "Depth: 14 Mean: 0.81 SD: 0.002\n",
      "Depth: 15 Mean: 0.81 SD: 0.003\n",
      "Depth: 16 Mean: 0.81 SD: 0.004\n",
      "Depth: 17 Mean: 0.81 SD: 0.004\n",
      "Depth: 18 Mean: 0.81 SD: 0.004\n",
      "Depth: 19 Mean: 0.81 SD: 0.005\n"
     ]
    }
   ],
   "source": [
    "cv_scores = []\n",
    "for depth in range(1, 20):\n",
    "    model = DecisionTreeClassifier(\n",
    "        max_depth=depth,\n",
    "    random_state=0)\n",
    "    \n",
    "    cv_score = cross_val_score(\n",
    "        model,\n",
    "        features,\n",
    "        labels,\n",
    "        cv = 5,\n",
    "        n_jobs = -1\n",
    "    )\n",
    "    \n",
    "    print(\"Depth:\", depth,\n",
    "          \"Mean:\", round(np.mean(cv_score), 2), \n",
    "          \"SD:\", round(np.std(cv_score), 3))\n",
    "    \n",
    "    cv_scores.append(cv_score)"
   ]
  },
  {
   "cell_type": "code",
   "execution_count": 25,
   "metadata": {
    "slideshow": {
     "slide_type": "slide"
    }
   },
   "outputs": [],
   "source": [
    "plot_2 = plot_1\n",
    "\n",
    "plot_2.line(x = range(1, 20), y = np.mean(cv_scores, axis=-1), \n",
    "            line_width = 5, color = \"purple\", legend = \"Cross Validation Accuracy\")\n",
    "bk.show(plot_2)"
   ]
  },
  {
   "cell_type": "markdown",
   "metadata": {
    "slideshow": {
     "slide_type": "slide"
    }
   },
   "source": [
    "![](img/bokeh_plot_cv.png)"
   ]
  },
  {
   "cell_type": "markdown",
   "metadata": {
    "slideshow": {
     "slide_type": "notes"
    }
   },
   "source": [
    "- Notice that this doesn't change much\n",
    "- This is because we already have sufficient data to get an accurate result\n",
    "- Try this on a smaller dataset\n",
    "- This is good news, cross-validation takes longer than validation"
   ]
  },
  {
   "cell_type": "markdown",
   "metadata": {
    "slideshow": {
     "slide_type": "slide"
    }
   },
   "source": [
    "## Summary\n",
    "\n",
    " - Always create a validation set (cross-validation if you have a small amount of data)\n",
    " - Never let information from your validation set leak into to your training\n",
    " - Don't train models for no reason"
   ]
  },
  {
   "cell_type": "markdown",
   "metadata": {
    "slideshow": {
     "slide_type": "slide"
    }
   },
   "source": [
    "## Bibliography\n",
    "\n",
    "\n",
    "[1] “Data splitting | Machine Learning.” [Online]. Available: https://www.includehelp.com/ml-ai/data-splitting.aspx. [Accessed: 17-Mar-2019].\n",
    "\n",
    "[2]“1.10. Decision Trees — scikit-learn 0.20.3 documentation.” [Online]. Available: https://scikit-learn.org/stable/modules/tree.html#tree. [Accessed: 17-Mar-2019].\n",
    "\n",
    "[3]M. Schmidt, “DSCI 573: Model Selection and Feature Selection 1.”\n",
    "\n",
    "[4]T. Sarkar, “How to analyze ‘Learning’: Short tour of computational learning theory,” Towards Data Science, 26-Oct-2018. [Online]. Available: https://towardsdatascience.com/how-to-analyze-learning-short-tour-of-computational-learning-theory-9d93b15fc3e5. [Accessed: 03-Mar-2019].\n",
    "\n",
    "[5]A MNIST-like fashion product database. Benchmark :point_right: : zalandoresearch/fashion-mnist. Zalando Research, 2019.\n",
    "\n",
    "[6]I. Guyon and T. B. Laboratories, “A scaling law for the validation-set training-set size ratio,” p. 11."
   ]
  }
 ],
 "metadata": {
  "celltoolbar": "Slideshow",
  "kernelspec": {
   "display_name": "Python 3",
   "language": "python",
   "name": "python3"
  },
  "language_info": {
   "codemirror_mode": {
    "name": "ipython",
    "version": 3
   },
   "file_extension": ".py",
   "mimetype": "text/x-python",
   "name": "python",
   "nbconvert_exporter": "python",
   "pygments_lexer": "ipython3",
   "version": "3.6.7"
  }
 },
 "nbformat": 4,
 "nbformat_minor": 2
}
